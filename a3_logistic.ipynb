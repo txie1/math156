{
 "cells": [
  {
   "cell_type": "code",
   "execution_count": 1,
   "metadata": {},
   "outputs": [],
   "source": [
    "import numpy as np\n",
    "import matplotlib.pyplot as plt\n",
    "from sklearn.model_selection import train_test_split\n",
    "from sklearn.preprocessing import StandardScaler"
   ]
  },
  {
   "cell_type": "markdown",
   "metadata": {},
   "source": [
    "### Binary Logistic Regression"
   ]
  },
  {
   "cell_type": "code",
   "execution_count": 2,
   "metadata": {},
   "outputs": [],
   "source": [
    "def concat_ones(X):\n",
    "    # add 1's in front of every training sample (bias)\n",
    "    return np.concatenate([np.ones(shape=(len(X), 1)), X], axis=1)\n",
    "\n",
    "def sigmoid(z):\n",
    "    return 1 / (1 + np.exp(-z))\n",
    "\n",
    "def compute_gradient(X_batch, y_batch, weights):\n",
    "    m = len(y_batch)\n",
    "    y_preds = sigmoid(np.dot(X_batch, weights))\n",
    "    errors = y_preds - y_batch\n",
    "    gradients = (1/m) * np.dot(X_batch.T, errors)\n",
    "    return gradients\n",
    "\n",
    "def cross_entropy(y_true, y_pred):\n",
    "    return -np.mean((y_true * np.log(y_pred)) + ((1-y_true) * np.log(1-y_pred)))"
   ]
  },
  {
   "cell_type": "code",
   "execution_count": 3,
   "metadata": {},
   "outputs": [],
   "source": [
    "class LogisticRegression:\n",
    "    def __init__(self, batch_size, lr, iters):\n",
    "        self.batch_size = batch_size\n",
    "        self.lr = lr\n",
    "        self.iters = iters\n",
    "        self.weights = None\n",
    "        self.train_loss = []\n",
    "        self.val_loss = []\n",
    "    \n",
    "    def fit(self, X, y, X_val=None, y_val=None):\n",
    "        X = concat_ones(X)\n",
    "        if X_val is not None:\n",
    "            X_val = concat_ones(X_val)\n",
    "\n",
    "        # random initialization of w^0, shape = (n_features, 1)\n",
    "        n_features = X.shape[1]\n",
    "        self.weights = np.random.randn(n_features) # standard Gaussian\n",
    "        \n",
    "        for iter in range(self.iters):\n",
    "            ind = np.random.permutation(len(X)) # shuffle data\n",
    "            X_shuffled = X[ind]\n",
    "            y_shuffled = y[ind]\n",
    "\n",
    "            # mini-batch sgd\n",
    "            for start in range(0, len(X), self.batch_size):\n",
    "                end = min(start + self.batch_size, len(X))\n",
    "                X_batch = X_shuffled[start:end]\n",
    "                y_batch = y_shuffled[start:end]\n",
    "                gradients = compute_gradient(X_batch, y_batch, self.weights)\n",
    "                self.weights -= self.lr * gradients\n",
    "            \n",
    "            # training loss at each iter\n",
    "            y_pred = sigmoid(np.dot(X, self.weights))\n",
    "            loss = cross_entropy(y, y_pred)\n",
    "            self.train_loss.append(loss)\n",
    "\n",
    "            # validation loss at each iter\n",
    "            if X_val is not None and y_val is not None:\n",
    "                y_pred_val = sigmoid(np.dot(X_val, self.weights))\n",
    "                loss_val = cross_entropy(y_val, y_pred_val)\n",
    "                self.val_loss.append(loss_val)\n",
    "\n",
    "                if iter % 500 == 0:\n",
    "                    print(f\"Iteration {iter}: Validation Loss = {loss_val:.4f}\")\n",
    "        \n",
    "    def logit(self, X):\n",
    "        X = concat_ones(X)\n",
    "        return sigmoid(X @ self.weights)\n",
    "    \n",
    "    def predict(self, X):\n",
    "        if self.weights is None:\n",
    "            raise ValueError(\"Fit function first using 'fit()\")\n",
    "        logits = self.logit(X)\n",
    "        return (logits >= 0.5).astype(int)"
   ]
  },
  {
   "cell_type": "markdown",
   "metadata": {},
   "source": [
    "### (4) Wisconsin Breast Cancer dataset"
   ]
  },
  {
   "cell_type": "code",
   "execution_count": 4,
   "metadata": {},
   "outputs": [
    {
     "name": "stdout",
     "output_type": "stream",
     "text": [
      "Target: {0, 1}\n",
      "Target Names: ['malignant', 'benign']\n",
      "(n_samples, n_features): (569, 30)\n"
     ]
    }
   ],
   "source": [
    "from sklearn.datasets import load_breast_cancer\n",
    "data = load_breast_cancer()\n",
    "\n",
    "print(\"Target:\", set(data.target))\n",
    "print(\"Target Names:\", list(data.target_names))\n",
    "print(\"(n_samples, n_features):\", data.data.shape)"
   ]
  },
  {
   "cell_type": "markdown",
   "metadata": {},
   "source": [
    "#### 4(b). Split dataset"
   ]
  },
  {
   "cell_type": "code",
   "execution_count": 5,
   "metadata": {},
   "outputs": [],
   "source": [
    "data = load_breast_cancer()\n",
    "X = data.data\n",
    "y = data.target\n",
    "\n",
    "X_train, X_temp, y_train, y_temp = train_test_split(X, y, test_size=0.4, random_state=0)\n",
    "X_val, X_test, y_val, y_test = train_test_split(X_temp, y_temp, test_size=0.5, random_state=0)"
   ]
  },
  {
   "cell_type": "markdown",
   "metadata": {},
   "source": [
    "#### 4(c). Class size in each dataset"
   ]
  },
  {
   "cell_type": "code",
   "execution_count": 6,
   "metadata": {},
   "outputs": [
    {
     "name": "stdout",
     "output_type": "stream",
     "text": [
      "Training: [129 212]\n",
      "Validation: [37 77]\n",
      "Test: [46 68]\n"
     ]
    }
   ],
   "source": [
    "train_class_sizes = np.bincount(y_train)\n",
    "val_class_sizes = np.bincount(y_val)\n",
    "test_class_sizes = np.bincount(y_test)\n",
    "\n",
    "print(f\"Training: {train_class_sizes}\")\n",
    "print(f\"Validation: {val_class_sizes}\")\n",
    "print(f\"Test: {test_class_sizes}\")"
   ]
  },
  {
   "cell_type": "markdown",
   "metadata": {},
   "source": [
    "#### 4(d). Train"
   ]
  },
  {
   "cell_type": "code",
   "execution_count": 7,
   "metadata": {},
   "outputs": [],
   "source": [
    "# feature scaling (zero mean & unit variance)\n",
    "scaler = StandardScaler()\n",
    "X_train = scaler.fit_transform(X_train)\n",
    "X_val = scaler.transform(X_val)\n",
    "X_test = scaler.transform(X_test)"
   ]
  },
  {
   "cell_type": "code",
   "execution_count": 8,
   "metadata": {},
   "outputs": [
    {
     "name": "stdout",
     "output_type": "stream",
     "text": [
      "Iteration 0: Validation Loss = 3.1734\n",
      "Iteration 500: Validation Loss = 0.3004\n",
      "Iteration 1000: Validation Loss = 0.2089\n",
      "Iteration 1500: Validation Loss = 0.1686\n",
      "Iteration 2000: Validation Loss = 0.1441\n",
      "Iteration 2500: Validation Loss = 0.1270\n",
      "\n",
      "Validation Accuracy: 0.9561\n"
     ]
    }
   ],
   "source": [
    "model = LogisticRegression(batch_size=32, lr=0.001, iters=3000)\n",
    "model.fit(X_train, y_train, X_val, y_val)\n",
    "\n",
    "y_pred_val = model.predict(X_val)\n",
    "\n",
    "# evaluation\n",
    "val_accuracy = np.mean(y_pred_val == y_val)\n",
    "print(f\"\\nValidation Accuracy: {val_accuracy:.4f}\")"
   ]
  },
  {
   "cell_type": "markdown",
   "metadata": {},
   "source": [
    "#### 4(e). Evaluation"
   ]
  },
  {
   "cell_type": "code",
   "execution_count": 9,
   "metadata": {},
   "outputs": [],
   "source": [
    "from sklearn.metrics import classification_report\n",
    "from sklearn.metrics import confusion_matrix, ConfusionMatrixDisplay"
   ]
  },
  {
   "cell_type": "code",
   "execution_count": 10,
   "metadata": {},
   "outputs": [
    {
     "name": "stdout",
     "output_type": "stream",
     "text": [
      "              precision    recall  f1-score   support\n",
      "\n",
      "   Malignant       0.98      0.91      0.94        46\n",
      "      Benign       0.94      0.99      0.96        68\n",
      "\n",
      "    accuracy                           0.96       114\n",
      "   macro avg       0.96      0.95      0.95       114\n",
      "weighted avg       0.96      0.96      0.96       114\n",
      "\n"
     ]
    }
   ],
   "source": [
    "y_pred = model.predict(X_test)\n",
    "\n",
    "report = classification_report(y_test, y_pred, target_names=[\"Malignant\", \"Benign\"])\n",
    "print(report)"
   ]
  },
  {
   "cell_type": "code",
   "execution_count": 11,
   "metadata": {},
   "outputs": [
    {
     "data": {
      "image/png": "[encoded data removed]",
      "text/plain": [
       "<Figure size 300x300 with 2 Axes>"
      ]
     },
     "metadata": {},
     "output_type": "display_data"
    }
   ],
   "source": [
    "cm = confusion_matrix(y_test, y_pred)\n",
    "plt.figure(figsize=(3,3))\n",
    "disp = ConfusionMatrixDisplay(confusion_matrix=cm)\n",
    "disp.plot(cmap=\"Blues\", ax=plt.gca())\n",
    "plt.title(\"Confusion Matrix\")\n",
    "plt.show()"
   ]
  },
  {
   "cell_type": "code",
   "execution_count": 12,
   "metadata": {},
   "outputs": [
    {
     "data": {
      "image/png": "[encoded data removed]",
      "text/plain": [
       "<Figure size 500x300 with 1 Axes>"
      ]
     },
     "metadata": {},
     "output_type": "display_data"
    }
   ],
   "source": [
    "plt.figure(figsize=(5,3))\n",
    "plt.plot(model.train_loss, label=\"Train\", lw=1)\n",
    "plt.plot(model.val_loss, label=\"Validation\", lw=1)\n",
    "plt.title(\"Loss vs. Iterations\")\n",
    "plt.xlabel(\"Iterations\")\n",
    "plt.ylabel(\"Binary Cross-Entropy Loss\")\n",
    "plt.legend()\n",
    "plt.show()"
   ]
  },
  {
   "cell_type": "markdown",
   "metadata": {},
   "source": [
    "#### 4(f). Summary\n"
   ]
  },
  {
   "cell_type": "markdown",
   "metadata": {},
   "source": [
    "The logistic regression model performs well overall, resulting in **high accuracy (96%)** and reasonable **F1-scores** for both classes. However, further reducing the **recall for malignant class (0.91)** is important as we want to avoid predicint malignant cases as benigh. Further adjustments of class importance and handeling of the slight class imbalances could help improve the model performance."
   ]
  }
 ],
 "metadata": {
  "kernelspec": {
   "display_name": "base",
   "language": "python",
   "name": "python3"
  },
  "language_info": {
   "codemirror_mode": {
    "name": "ipython",
    "version": 3
   },
   "file_extension": ".py",
   "mimetype": "text/x-python",
   "name": "python",
   "nbconvert_exporter": "python",
   "pygments_lexer": "ipython3",
   "version": "3.11.5"
  }
 },
 "nbformat": 4,
 "nbformat_minor": 2
}
